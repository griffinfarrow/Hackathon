{
 "cells": [
  {
   "cell_type": "code",
   "execution_count": 2,
   "metadata": {},
   "outputs": [],
   "source": [
    "from stable_baselines3 import PPO\n",
    "from stable_baselines3.ppo.policies import MlpPolicy\n",
    "from stable_baselines3.common.vec_env import DummyVecEnv\n",
    "from stable_baselines3.common.env_checker import check_env\n",
    "import gym\n",
    "import numpy as np\n",
    "from RL import helpers\n",
    "from Hack import load\n",
    "import matplotlib.pyplot as plt\n",
    "%matplotlib qt5"
   ]
  },
  {
   "cell_type": "code",
   "execution_count": 3,
   "metadata": {},
   "outputs": [],
   "source": [
    "epex = load.epex().load()\n",
    "price_array = epex['apx_da_hourly'].values"
   ]
  },
  {
   "cell_type": "markdown",
   "metadata": {},
   "source": [
    "# Superposed Epoch Analysis"
   ]
  },
  {
   "cell_type": "code",
   "execution_count": 23,
   "metadata": {},
   "outputs": [],
   "source": [
    "doy = []\n",
    "years = []\n",
    "for i, row in epex.iterrows():\n",
    "    doy.append(i.day_of_year)\n",
    "    years.append(i.year)\n",
    "\n",
    "epex['doy'] = doy    \n",
    "epex['years'] = years    \n",
    "\n",
    "fig,axs = plt.subplots(1,1)\n",
    "\n",
    "medians = []\n",
    "\n",
    "for i in [2019, 2020]:\n",
    "    year_df = epex.loc[(epex.year==i)]\n",
    "    for doy in np.unique(year_df['doy']):\n",
    "        sliced_df = year_df.loc[year_df['doy'] == doy]\n",
    "        hour_through_day = np.arange(0, sliced_df.shape[0])*0.5\n",
    "        \n",
    "        # median_on_day = helpers.get_expected_price(sliced_df[\"apx_da_hourly\"].values,sliced_df.shape[0], mode='median', window_size=sliced_df.shape[0])\n",
    "        # medians.append(median_on_day)\n",
    "        \n",
    "        axs.plot(hour_through_day , sliced_df[\"apx_da_hourly\"], color = 'blue', lw = 0.1)\n",
    "        \n",
    "        axs.set_ylabel(\"Price\")\n",
    "    \n",
    "# for median in medians:\n",
    "#     axs.axhline(median, color = 'green', lw = 0.1)\n",
    "    \n",
    "axs.set_xticks([0,6,12,18,24])\n",
    "axs.set_xlim(0,24)\n",
    "axs.grid(axis='x')\n",
    "axs.set_xlabel(\"Hour in Day\")"
   ]
  },
  {
   "cell_type": "markdown",
   "metadata": {},
   "source": [
    "## Median Trend "
   ]
  },
  {
   "cell_type": "code",
   "execution_count": 21,
   "metadata": {},
   "outputs": [],
   "source": [
    "import matplotlib.pyplot as plt\n",
    "\n",
    "\n",
    "fig, axs = plt.subplots(1,1, figsize = (15,10))\n",
    "axs.plot(epex.index, price_array, color = 'mediumblue', label='Price')\n",
    "mean_prices = []\n",
    "median_prices = []\n",
    "for i in np.arange(price_array.shape[0]):\n",
    "    mean_prices.append(helpers.get_expected_price(price_array, i, mode = 'mean'))\n",
    "    median_prices.append(helpers.get_expected_price(price_array, i, mode = 'median', window_size=2*24))\n",
    "    \n",
    "axs.plot(epex.index, mean_prices, color = 'cyan', label='mean')\n",
    "axs.plot(epex.index, median_prices, color = 'magenta', label='median')\n",
    "\n",
    "axs.set_ylabel(\"Price\")\n",
    "axs.legend()\n",
    "fig.autofmt_xdate()"
   ]
  }
 ],
 "metadata": {
  "interpreter": {
   "hash": "359929df3674405dbd520b625166222816afac501f5decec9dd63c75d88c0d26"
  },
  "kernelspec": {
   "display_name": "Python 3.9.10 ('ml')",
   "language": "python",
   "name": "python3"
  },
  "language_info": {
   "codemirror_mode": {
    "name": "ipython",
    "version": 3
   },
   "file_extension": ".py",
   "mimetype": "text/x-python",
   "name": "python",
   "nbconvert_exporter": "python",
   "pygments_lexer": "ipython3",
   "version": "3.9.10"
  },
  "orig_nbformat": 4
 },
 "nbformat": 4,
 "nbformat_minor": 2
}
