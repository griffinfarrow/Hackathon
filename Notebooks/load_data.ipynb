{
 "cells": [
  {
   "cell_type": "markdown",
   "metadata": {},
   "source": [
    "## Load the data"
   ]
  },
  {
   "cell_type": "code",
   "execution_count": 2,
   "metadata": {},
   "outputs": [],
   "source": [
    "import sys\n",
    "sys.path.append(\"../\")\n",
    "from Hack import load\n",
    "import matplotlib.pyplot as plt\n",
    "import pandas as pd\n",
    "from pathlib import Path"
   ]
  },
  {
   "cell_type": "code",
   "execution_count": 8,
   "metadata": {},
   "outputs": [
    {
     "data": {
      "text/plain": [
       "WindowsPath('C:/Users/Ronan/Projects/Hackathon')"
      ]
     },
     "execution_count": 8,
     "metadata": {},
     "output_type": "execute_result"
    }
   ],
   "source": [
    "dir = Path().resolve()\n",
    "dir.parent"
   ]
  },
  {
   "cell_type": "code",
   "execution_count": 9,
   "metadata": {},
   "outputs": [
    {
     "name": "stdout",
     "output_type": "stream",
     "text": [
      "C:\\Users\\Ronan\\Projects\\Hackathon\\Data\n",
      "C:\\Users\\Ronan\\Projects\\Hackathon\\Data\n"
     ]
    }
   ],
   "source": [
    "df = load.systemprice().load()"
   ]
  },
  {
   "cell_type": "code",
   "execution_count": 15,
   "metadata": {},
   "outputs": [
    {
     "name": "stdout",
     "output_type": "stream",
     "text": [
      "Data\\epex_day_ahead_price.csv\n"
     ]
    }
   ],
   "source": [
    "df = load.epex().load()"
   ]
  },
  {
   "cell_type": "code",
   "execution_count": 18,
   "metadata": {},
   "outputs": [
    {
     "name": "stdout",
     "output_type": "stream",
     "text": [
      "Data\\spot_intraday_price.csv\n"
     ]
    }
   ],
   "source": [
    "df = load.spot().load()"
   ]
  },
  {
   "cell_type": "code",
   "execution_count": 19,
   "metadata": {},
   "outputs": [],
   "source": [
    "import matplotlib.pyplot as plt\n",
    "\n",
    "%matplotlib qt5\n",
    "# plot all the columns in a new subplot\n",
    "fig, axs = plt.subplots(len(df.keys()),1,sharex = True)\n",
    "if len(df.keys()) < 2:\n",
    "    axs = [axs]\n",
    "for ax, col in zip(axs, df.keys()):\n",
    "    ax.plot(df.index, df[col])\n",
    "    ax.set_ylabel(col)\n",
    "fig.autofmt_xdate()"
   ]
  }
 ],
 "metadata": {
  "interpreter": {
   "hash": "359929df3674405dbd520b625166222816afac501f5decec9dd63c75d88c0d26"
  },
  "kernelspec": {
   "display_name": "Python 3.9.10 ('ml')",
   "language": "python",
   "name": "python3"
  },
  "language_info": {
   "codemirror_mode": {
    "name": "ipython",
    "version": 3
   },
   "file_extension": ".py",
   "mimetype": "text/x-python",
   "name": "python",
   "nbconvert_exporter": "python",
   "pygments_lexer": "ipython3",
   "version": "3.9.10"
  },
  "orig_nbformat": 4
 },
 "nbformat": 4,
 "nbformat_minor": 2
}
