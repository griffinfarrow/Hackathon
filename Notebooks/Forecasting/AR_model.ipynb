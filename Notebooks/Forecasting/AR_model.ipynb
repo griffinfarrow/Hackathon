{
 "cells": [
  {
   "cell_type": "code",
   "execution_count": 17,
   "metadata": {},
   "outputs": [],
   "source": [
    "import sys\n",
    "sys.path.append(\"../../\")\n",
    "from Hack import load\n",
    "import matplotlib.pyplot as plt\n",
    "import pandas as pd\n",
    "import seaborn as sns\n",
    "from pathlib import Path\n",
    "from statsmodels.tsa.ar_model import AutoReg\n",
    "import numpy as np\n",
    "import datetime as datetime\n",
    "from sklearn.metrics import r2_score"
   ]
  },
  {
   "cell_type": "code",
   "execution_count": 18,
   "metadata": {},
   "outputs": [
    {
     "name": "stdout",
     "output_type": "stream",
     "text": [
      "Index(['Settlement Date', 'Settlement Period', 'System Sell Price(£/MWh)',\n",
      "       'System Buy Price(£/MWh)', 'Net Imbalance Volume(MWh)',\n",
      "       'local_datetime', 'local_time'],\n",
      "      dtype='object')\n",
      "                     Settlement Period  System Sell Price(£/MWh)  \\\n",
      "Date                                                               \n",
      "2019-04-08 00:00:00                5.5                 49.416000   \n",
      "2019-04-08 05:00:00               15.5                 60.817000   \n",
      "2019-04-08 10:00:00               25.5                 44.385000   \n",
      "2019-04-08 15:00:00               35.5                 37.742812   \n",
      "2019-04-08 20:00:00               35.9                 51.174000   \n",
      "...                                ...                       ...   \n",
      "2021-12-15 02:00:00                7.5                 73.325000   \n",
      "2021-12-15 07:00:00               17.5                302.500000   \n",
      "2021-12-15 12:00:00               27.5                287.850000   \n",
      "2021-12-15 17:00:00               37.5                262.565000   \n",
      "2021-12-15 22:00:00               45.5                266.350000   \n",
      "\n",
      "                     System Buy Price(£/MWh)  Net Imbalance Volume(MWh)  \n",
      "Date                                                                     \n",
      "2019-04-08 00:00:00                49.416000                   69.42236  \n",
      "2019-04-08 05:00:00                60.817000                   84.92490  \n",
      "2019-04-08 10:00:00                44.385000                  -90.99853  \n",
      "2019-04-08 15:00:00                37.742812                 -123.07485  \n",
      "2019-04-08 20:00:00                51.174000                  297.18702  \n",
      "...                                      ...                        ...  \n",
      "2021-12-15 02:00:00                73.325000                 -245.17018  \n",
      "2021-12-15 07:00:00               302.500000                  487.19330  \n",
      "2021-12-15 12:00:00               287.850000                   54.91967  \n",
      "2021-12-15 17:00:00               262.565000                 -179.22871  \n",
      "2021-12-15 22:00:00               266.350000                   -9.42495  \n",
      "\n",
      "[4719 rows x 4 columns]\n"
     ]
    }
   ],
   "source": [
    "price = load.systemprice().load()\n",
    "print(price.keys())\n",
    "\n",
    "# resample to required resolution (full res is probably too noisy)\n",
    "price = price.resample('300T').mean()\n",
    "print(price)"
   ]
  },
  {
   "cell_type": "code",
   "execution_count": 19,
   "metadata": {},
   "outputs": [
    {
     "data": {
      "text/plain": [
       "[<matplotlib.lines.Line2D at 0x146500a30>]"
      ]
     },
     "execution_count": 19,
     "metadata": {},
     "output_type": "execute_result"
    }
   ],
   "source": [
    "# plot data\n",
    "fig, axs = plt.subplots(1,1)\n",
    "axs.plot(price.index, price['System Buy Price(£/MWh)'].values)"
   ]
  },
  {
   "cell_type": "markdown",
   "metadata": {},
   "source": [
    "# Model"
   ]
  },
  {
   "cell_type": "code",
   "execution_count": 20,
   "metadata": {},
   "outputs": [
    {
     "data": {
      "text/plain": [
       "<AxesSubplot:xlabel='Lag', ylabel='Autocorrelation'>"
      ]
     },
     "execution_count": 20,
     "metadata": {},
     "output_type": "execute_result"
    }
   ],
   "source": [
    "# Check what the autocorrelation function looks like\n",
    "plt.figure()\n",
    "pd.plotting.autocorrelation_plot(price['System Buy Price(£/MWh)'])"
   ]
  },
  {
   "cell_type": "code",
   "execution_count": 21,
   "metadata": {},
   "outputs": [],
   "source": [
    "# Remove seasonal trends (this might be improvable)\n",
    "price['stationary']=price['System Buy Price(£/MWh)'].diff()"
   ]
  },
  {
   "cell_type": "code",
   "execution_count": 22,
   "metadata": {},
   "outputs": [],
   "source": [
    "# Split into train and test data\n",
    "t1 = datetime.datetime(2021, 1, 1, 0, 0, 0)   # train up to this date\n",
    "t2 = datetime.datetime(2021, 1, 6, 0, 0, 0)   # predict up to this date\n",
    "\n",
    "train_data = price['stationary'].loc[price.index<t1]\n",
    "test_data = price['stationary'].loc[(price.index>=t1)&(price.index<t2)]\n",
    "train_data, test_data = train_data.dropna(), test_data.dropna()"
   ]
  },
  {
   "cell_type": "code",
   "execution_count": 24,
   "metadata": {},
   "outputs": [
    {
     "data": {
      "text/plain": [
       "Text(0.5, 0, 'Lag')"
      ]
     },
     "execution_count": 24,
     "metadata": {},
     "output_type": "execute_result"
    }
   ],
   "source": [
    "# Fit model on training data \n",
    "# Try many different lags\n",
    "fig, axs = plt.subplots(1,1)\n",
    "axs.plot(test_data.index, test_data.values, c='black')\n",
    "lags = np.arange(10, 1000, 200)\n",
    "error = []\n",
    "for i in lags:\n",
    "    model = AutoReg(train_data, lags=i)\n",
    "    model_fitted = model.fit()\n",
    "\n",
    "    # make predictions \n",
    "    predictions = model_fitted.predict(start=len(train_data), end=len(train_data) + len(test_data)-1, dynamic=False)\n",
    "    axs.plot(test_data.index, predictions, label=str(i))\n",
    "    error.append(np.mean(abs((predictions - test_data.values))))\n",
    "axs.legend()\n",
    "\n",
    "fig, axs = plt.subplots(1,1)\n",
    "axs.scatter(lags, np.asarray(error))\n",
    "axs.set_ylabel(\"Error\")\n",
    "axs.set_xlabel(\"Lag\")"
   ]
  }
 ],
 "metadata": {
  "interpreter": {
   "hash": "bf61063d9ab6f8249df0368120b21b7886bf87ea303c1737ea82e59c300fcd9d"
  },
  "kernelspec": {
   "display_name": "Python 3.9.10 ('ml')",
   "language": "python",
   "name": "python3"
  },
  "language_info": {
   "codemirror_mode": {
    "name": "ipython",
    "version": 3
   },
   "file_extension": ".py",
   "mimetype": "text/x-python",
   "name": "python",
   "nbconvert_exporter": "python",
   "pygments_lexer": "ipython3",
   "version": "3.9.10"
  },
  "orig_nbformat": 4
 },
 "nbformat": 4,
 "nbformat_minor": 2
}
