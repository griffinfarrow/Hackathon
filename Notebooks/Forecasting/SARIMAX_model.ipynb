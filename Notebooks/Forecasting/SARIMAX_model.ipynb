{
 "cells": [
  {
   "cell_type": "code",
   "execution_count": 2,
   "metadata": {},
   "outputs": [],
   "source": [
    "import sys\n",
    "sys.path.append(\"../../\")\n",
    "from Hack import load\n",
    "import matplotlib.pyplot as plt\n",
    "import pandas as pd\n",
    "import seaborn as sns\n",
    "from pathlib import Path\n",
    "import numpy as np\n",
    "import datetime as datetime\n",
    "import statsmodels.api as sm"
   ]
  },
  {
   "cell_type": "code",
   "execution_count": 3,
   "metadata": {},
   "outputs": [
    {
     "name": "stdout",
     "output_type": "stream",
     "text": [
      "Data/systemprice.csv\n",
      "Index(['Settlement Period', 'System Sell Price(£/MWh)',\n",
      "       'System Buy Price(£/MWh)', 'Net Imbalance Volume(MWh)'],\n",
      "      dtype='object')\n",
      "                     Settlement Period  System Sell Price(£/MWh)  \\\n",
      "Date                                                               \n",
      "2019-04-08 00:00:00                3.0                 47.832000   \n",
      "2019-04-08 03:00:00                8.5                 51.805000   \n",
      "2019-04-08 06:00:00               14.5                 52.390000   \n",
      "2019-04-08 09:00:00               20.5                 65.701667   \n",
      "2019-04-08 12:00:00               26.5                 42.498333   \n",
      "...                                ...                       ...   \n",
      "2021-12-15 12:00:00               26.5                320.000000   \n",
      "2021-12-15 15:00:00               32.5                206.166667   \n",
      "2021-12-15 18:00:00               38.5                300.191667   \n",
      "2021-12-15 21:00:00               44.5                242.350000   \n",
      "2021-12-16 00:00:00               48.0                350.000000   \n",
      "\n",
      "                     System Buy Price(£/MWh)  Net Imbalance Volume(MWh)  \n",
      "Date                                                                     \n",
      "2019-04-08 00:00:00                47.832000                  85.216020  \n",
      "2019-04-08 03:00:00                51.805000                  98.207983  \n",
      "2019-04-08 06:00:00                52.390000                 -19.995600  \n",
      "2019-04-08 09:00:00                65.701667                 149.040933  \n",
      "2019-04-08 12:00:00                42.498333                -166.053433  \n",
      "...                                      ...                        ...  \n",
      "2021-12-15 12:00:00               320.000000                 184.531200  \n",
      "2021-12-15 15:00:00               206.166667                -276.708233  \n",
      "2021-12-15 18:00:00               300.191667                 -93.929767  \n",
      "2021-12-15 21:00:00               242.350000                -151.505900  \n",
      "2021-12-16 00:00:00               350.000000                 336.349600  \n",
      "\n",
      "[7865 rows x 4 columns]\n"
     ]
    }
   ],
   "source": [
    "price = load.systemprice().load()\n",
    "print(price.keys())\n",
    "\n",
    "# resample to required resolution (full res is probably too noisy)\n",
    "price = price.resample('180T').mean()\n",
    "print(price)"
   ]
  },
  {
   "cell_type": "code",
   "execution_count": 4,
   "metadata": {},
   "outputs": [
    {
     "data": {
      "text/plain": [
       "[<matplotlib.lines.Line2D at 0x149a103a0>]"
      ]
     },
     "execution_count": 4,
     "metadata": {},
     "output_type": "execute_result"
    }
   ],
   "source": [
    "# plot data\n",
    "fig, axs = plt.subplots(1,1)\n",
    "axs.plot(price.index, price['System Buy Price(£/MWh)'].values)"
   ]
  },
  {
   "cell_type": "markdown",
   "metadata": {},
   "source": [
    "# Model"
   ]
  },
  {
   "cell_type": "code",
   "execution_count": 5,
   "metadata": {},
   "outputs": [
    {
     "name": "stdout",
     "output_type": "stream",
     "text": [
      "Results of Dickey-Fuller Test:\n",
      "Test Statistic                   -4.737909\n",
      "p-value                           0.000071\n",
      "#Lags Used                       36.000000\n",
      "Number of Observations Used    7828.000000\n",
      "Critical Value (1%)              -3.431186\n",
      "Critical Value (5%)              -2.861909\n",
      "Critical Value (10%)             -2.566967\n",
      "dtype: float64\n",
      "None\n"
     ]
    }
   ],
   "source": [
    "from statsmodels.tsa.stattools import adfuller\n",
    "def adf_test(timeseries):\n",
    "    #Perform Dickey-Fuller test:\n",
    "    print ('Results of Dickey-Fuller Test:')\n",
    "    dftest = adfuller(timeseries, autolag='AIC')\n",
    "    dfoutput = pd.Series(dftest[0:4], index=['Test Statistic','p-value','#Lags Used','Number of Observations Used'])\n",
    "    for key,value in dftest[4].items():\n",
    "        dfoutput['Critical Value (%s)'%key] = value\n",
    "    print (dfoutput)\n",
    "\n",
    "print(adf_test(price['System Buy Price(£/MWh)']))"
   ]
  },
  {
   "cell_type": "code",
   "execution_count": 6,
   "metadata": {},
   "outputs": [
    {
     "name": "stderr",
     "output_type": "stream",
     "text": [
      "/Users/Tom/opt/anaconda3/envs/ml/lib/python3.9/site-packages/statsmodels/graphics/tsaplots.py:348: FutureWarning: The default method 'yw' can produce PACF values outside of the [-1,1] interval. After 0.13, the default will change tounadjusted Yule-Walker ('ywm'). You can use this method now by setting method='ywm'.\n",
      "  warnings.warn(\n"
     ]
    }
   ],
   "source": [
    "# Figure out model params\n",
    "decomposition = sm.tsa.seasonal_decompose(price['System Buy Price(£/MWh)'], model='additive')\n",
    "fig = decomposition.plot()\n",
    "plt.show()\n",
    "\n",
    "system_buy = price['System Buy Price(£/MWh)']\n",
    "system_buy = system_buy - system_buy.shift(8)\n",
    "system_buy = system_buy.dropna()\n",
    "system_buy.plot()\n",
    "\n",
    "\n",
    "\n",
    "from statsmodels.graphics.tsaplots import plot_acf, plot_pacf\n",
    "plot_acf(system_buy)\n",
    "plt.show()\n",
    "plot_pacf(system_buy)\n",
    "plt.show()"
   ]
  },
  {
   "cell_type": "code",
   "execution_count": 7,
   "metadata": {},
   "outputs": [],
   "source": [
    "# Split into train and test data\n",
    "t1 = datetime.datetime(2021, 1, 1, 0, 0, 0)   # train up to this date\n",
    "t2 = datetime.datetime(2021, 1, 6, 0, 0, 0)   # predict up to this date\n",
    "\n",
    "train_data = price['System Buy Price(£/MWh)'].loc[price.index<t1]\n",
    "test_data = price['System Buy Price(£/MWh)'].loc[(price.index>=t1)&(price.index<t2)]\n",
    "train_data, test_data = train_data.dropna(), test_data.dropna()"
   ]
  },
  {
   "cell_type": "code",
   "execution_count": 10,
   "metadata": {},
   "outputs": [
    {
     "name": "stdout",
     "output_type": "stream",
     "text": [
      "RUNNING THE L-BFGS-B CODE\n",
      "\n",
      "           * * *\n",
      "\n",
      "Machine precision = 2.220D-16\n",
      " N =            4     M =           10\n",
      "\n",
      "At X0         0 variables are exactly at the bounds\n",
      "\n",
      "At iterate    0    f=  4.49421D+00    |proj g|=  8.15566D-02\n"
     ]
    },
    {
     "name": "stderr",
     "output_type": "stream",
     "text": [
      " This problem is unconstrained.\n"
     ]
    },
    {
     "name": "stdout",
     "output_type": "stream",
     "text": [
      "\n",
      "At iterate    5    f=  4.43993D+00    |proj g|=  2.05333D-02\n",
      "\n",
      "At iterate   10    f=  4.39836D+00    |proj g|=  6.91169D-03\n",
      "\n",
      "At iterate   15    f=  4.37683D+00    |proj g|=  2.73939D-03\n",
      "\n",
      "           * * *\n",
      "\n",
      "Tit   = total number of iterations\n",
      "Tnf   = total number of function evaluations\n",
      "Tnint = total number of segments explored during Cauchy searches\n",
      "Skip  = number of BFGS updates skipped\n",
      "Nact  = number of active bounds at final generalized Cauchy point\n",
      "Projg = norm of the final projected gradient\n",
      "F     = final function value\n",
      "\n",
      "           * * *\n",
      "\n",
      "   N    Tit     Tnf  Tnint  Skip  Nact     Projg        F\n",
      "    4     19     25      1     0     0   2.617D-06   4.377D+00\n",
      "  F =   4.3767422620815131     \n",
      "\n",
      "CONVERGENCE: NORM_OF_PROJECTED_GRADIENT_<=_PGTOL            \n"
     ]
    },
    {
     "name": "stderr",
     "output_type": "stream",
     "text": [
      " This problem is unconstrained.\n"
     ]
    },
    {
     "name": "stdout",
     "output_type": "stream",
     "text": [
      "RUNNING THE L-BFGS-B CODE\n",
      "\n",
      "           * * *\n",
      "\n",
      "Machine precision = 2.220D-16\n",
      " N =            5     M =           10\n",
      "\n",
      "At X0         0 variables are exactly at the bounds\n",
      "\n",
      "At iterate    0    f=  4.48601D+00    |proj g|=  8.28723D-02\n",
      "\n",
      "At iterate    5    f=  4.42929D+00    |proj g|=  1.67315D-02\n",
      "\n",
      "At iterate   10    f=  4.38142D+00    |proj g|=  2.48520D-03\n",
      "\n",
      "At iterate   15    f=  4.38036D+00    |proj g|=  9.00255D-03\n",
      "\n",
      "At iterate   20    f=  4.37048D+00    |proj g|=  4.47265D-02\n",
      "\n",
      "At iterate   25    f=  4.36450D+00    |proj g|=  6.41765D-04\n",
      "\n",
      "           * * *\n",
      "\n",
      "Tit   = total number of iterations\n",
      "Tnf   = total number of function evaluations\n",
      "Tnint = total number of segments explored during Cauchy searches\n",
      "Skip  = number of BFGS updates skipped\n",
      "Nact  = number of active bounds at final generalized Cauchy point\n",
      "Projg = norm of the final projected gradient\n",
      "F     = final function value\n",
      "\n",
      "           * * *\n",
      "\n",
      "   N    Tit     Tnf  Tnint  Skip  Nact     Projg        F\n",
      "    5     28     43      1     0     0   2.378D-05   4.364D+00\n",
      "  F =   4.3644971986704473     \n",
      "\n",
      "CONVERGENCE: REL_REDUCTION_OF_F_<=_FACTR*EPSMCH             \n"
     ]
    },
    {
     "name": "stderr",
     "output_type": "stream",
     "text": [
      " This problem is unconstrained.\n"
     ]
    },
    {
     "name": "stdout",
     "output_type": "stream",
     "text": [
      "RUNNING THE L-BFGS-B CODE\n",
      "\n",
      "           * * *\n",
      "\n",
      "Machine precision = 2.220D-16\n",
      " N =            4     M =           10\n",
      "\n",
      "At X0         0 variables are exactly at the bounds\n",
      "\n",
      "At iterate    0    f=  4.57111D+00    |proj g|=  7.46371D-02\n",
      "\n",
      "At iterate    5    f=  4.42763D+00    |proj g|=  1.24936D-02\n",
      "\n",
      "At iterate   10    f=  4.40928D+00    |proj g|=  8.40717D-03\n",
      "\n",
      "At iterate   15    f=  4.40681D+00    |proj g|=  3.31178D-04\n",
      "\n",
      "At iterate   20    f=  4.40679D+00    |proj g|=  1.40340D-05\n",
      "\n",
      "           * * *\n",
      "\n",
      "Tit   = total number of iterations\n",
      "Tnf   = total number of function evaluations\n",
      "Tnint = total number of segments explored during Cauchy searches\n",
      "Skip  = number of BFGS updates skipped\n",
      "Nact  = number of active bounds at final generalized Cauchy point\n",
      "Projg = norm of the final projected gradient\n",
      "F     = final function value\n",
      "\n",
      "           * * *\n",
      "\n",
      "   N    Tit     Tnf  Tnint  Skip  Nact     Projg        F\n",
      "    4     20     25      1     0     0   1.403D-05   4.407D+00\n",
      "  F =   4.4067875231226052     \n",
      "\n",
      "CONVERGENCE: REL_REDUCTION_OF_F_<=_FACTR*EPSMCH             \n"
     ]
    },
    {
     "name": "stderr",
     "output_type": "stream",
     "text": [
      "/Users/Tom/opt/anaconda3/envs/ml/lib/python3.9/site-packages/statsmodels/tsa/statespace/sarimax.py:1009: UserWarning: Non-invertible starting seasonal moving average Using zeros as starting parameters.\n",
      "  warn('Non-invertible starting seasonal moving average'\n"
     ]
    }
   ],
   "source": [
    "# define model configuration\n",
    "fig, axs = plt.subplots(1,1)\n",
    "axs.plot(test_data.index, test_data.values, c='black')\n",
    "#my_order = (0, 0, 1)\n",
    "#my_seasonal_order = (1, 1, 1, 8)\n",
    "\n",
    "combinations = [ [0, 0, 1, 1, 1, 1, 8], [1, 0, 1, 1, 1, 1, 8], [0, 1, 1, 1, 1, 1, 8], [1, 1, 1, 1, 1, 100, 8]   ]\n",
    "# define model\n",
    "for i in combinations:\n",
    "    my_order = (i[0], i[1], i[2])\n",
    "    my_seasonal_order = (i[3], i[4], i[5], i[6])\n",
    "\n",
    "    model = sm.tsa.statespace.SARIMAX(train_data, order=my_order, seasonal_order=my_seasonal_order)\n",
    "    model_fitted = model.fit()\n",
    "    predictions = model_fitted.predict(start=len(train_data), end=len(train_data) + len(test_data)-1, dynamic=False)\n",
    "    axs.plot(test_data.index, predictions, label=str(i))\n",
    "axs.legend()"
   ]
  }
 ],
 "metadata": {
  "interpreter": {
   "hash": "bf61063d9ab6f8249df0368120b21b7886bf87ea303c1737ea82e59c300fcd9d"
  },
  "kernelspec": {
   "display_name": "Python 3.9.10 ('ml')",
   "language": "python",
   "name": "python3"
  },
  "language_info": {
   "codemirror_mode": {
    "name": "ipython",
    "version": 3
   },
   "file_extension": ".py",
   "mimetype": "text/x-python",
   "name": "python",
   "nbconvert_exporter": "python",
   "pygments_lexer": "ipython3",
   "version": "3.9.10"
  },
  "orig_nbformat": 4
 },
 "nbformat": 4,
 "nbformat_minor": 2
}
