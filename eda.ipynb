{
 "cells": [
  {
   "cell_type": "code",
   "execution_count": 42,
   "metadata": {},
   "outputs": [],
   "source": [
    "from Hack import load\n",
    "import matplotlib.pyplot as plt\n",
    "import pandas as pd\n",
    "import seaborn as sns\n",
    "from pathlib import Path"
   ]
  },
  {
   "cell_type": "code",
   "execution_count": 52,
   "metadata": {},
   "outputs": [
    {
     "name": "stdout",
     "output_type": "stream",
     "text": [
      "Data/systemprice.csv\n",
      "Data/epex_day_ahead_price.csv\n",
      "Data/spot_intraday_price.csv\n",
      "Index(['Settlement Period', 'System Sell Price(£/MWh)',\n",
      "       'System Buy Price(£/MWh)', 'Net Imbalance Volume(MWh)'],\n",
      "      dtype='object')\n",
      "Index(['apx_da_hourly'], dtype='object')\n",
      "Index(['SP', 'spot_price'], dtype='object')\n"
     ]
    }
   ],
   "source": [
    "price = load.systemprice().load()\n",
    "epex = load.epex().load()\n",
    "spot = load.spot().load()\n",
    "print(price.keys())\n",
    "print(epex.keys())\n",
    "print(spot.keys())"
   ]
  },
  {
   "cell_type": "markdown",
   "metadata": {},
   "source": [
    "# Seasonal Trends\n",
    "\n",
    "Spikes explained:\n",
    "\n",
    "008 2021 - \n",
    "\n",
    "102 2021 - \n",
    "\n",
    "249-253 2021 - \n",
    "\n",
    "306 2021 - \n",
    "\n",
    "064 2020 - \n",
    "\n",
    "259 2020 -\n",
    "\n",
    "342 2020 - "
   ]
  },
  {
   "cell_type": "code",
   "execution_count": 40,
   "metadata": {},
   "outputs": [
    {
     "data": {
      "text/plain": [
       "Text(0.5, 0, 'day of year')"
      ]
     },
     "execution_count": 40,
     "metadata": {},
     "output_type": "execute_result"
    }
   ],
   "source": [
    "price['doy'] = price.index.day_of_year\n",
    "price['year'] = price.index.year\n",
    "fig, axs = plt.subplots(3,1, figsize=(15,10), sharex='col')\n",
    "for i in [2019, 2020]:\n",
    "    price_temp = price.loc[price.year==i]\n",
    "    price_group = price_temp.groupby(['doy']).mean()\n",
    "    for j, key in enumerate(['System Buy Price(£/MWh)', 'System Sell Price(£/MWh)', 'Net Imbalance Volume(MWh)']):\n",
    "        axs[j].plot(price_group.index, price_group[key])\n",
    "        axs[j].set_ylabel(key)\n",
    "fig.subplots_adjust(hspace=0.1)\n",
    "axs[-1].set_xlabel('day of year')"
   ]
  },
  {
   "cell_type": "code",
   "execution_count": 35,
   "metadata": {},
   "outputs": [],
   "source": [
    "epex['doy'] = epex.index.day_of_year\n",
    "epex['year'] = epex.index.year\n",
    "fig, axs = plt.subplots(1,1, figsize=(15,10), sharex='col')\n",
    "for i in [2019, 2020, 2021]:\n",
    "    epex_temp = epex.loc[epex.year==i]\n",
    "    epex_group = epex_temp.groupby(['doy']).mean()\n",
    "    axs.plot(epex_group.index, epex_group['apx_da_hourly'])\n",
    "    axs.set_ylabel('apx_da_hourly')\n",
    "    axs.set_xlabel('day of year')\n",
    "fig.subplots_adjust(hspace=0.1)"
   ]
  },
  {
   "cell_type": "code",
   "execution_count": 38,
   "metadata": {},
   "outputs": [],
   "source": [
    "spot['doy'] = spot.index.day_of_year\n",
    "spot['year'] = spot.index.year\n",
    "fig, axs = plt.subplots(1,1, figsize=(15,10), sharex='col')\n",
    "for i in [2019, 2020, 2021]:\n",
    "    spot_temp = spot.loc[spot.year==i]\n",
    "    spot_group = spot_temp.groupby(['doy']).mean()\n",
    "    axs.plot(spot_group.index, spot_group['spot_price'])\n",
    "    axs.set_ylabel('spot_price')\n",
    "    axs.set_xlabel('day of year')\n",
    "fig.subplots_adjust(hspace=0.1)"
   ]
  },
  {
   "cell_type": "markdown",
   "metadata": {},
   "source": [
    "# Variance"
   ]
  },
  {
   "cell_type": "code",
   "execution_count": 55,
   "metadata": {},
   "outputs": [],
   "source": [
    "epex['doy'] = epex.index.day_of_year\n",
    "epex['year'] = epex.index.year\n",
    "fig, axs = plt.subplots(1,1, figsize=(15,10), sharex='col')\n",
    "for i in [2019, 2020, 2021]:\n",
    "    epex_temp = epex.loc[epex.year==i]\n",
    "    epex_group = epex_temp.groupby(['doy']).std()\n",
    "    axs.plot(epex_group.index, epex_group['apx_da_hourly'])\n",
    "    axs.set_ylabel('apx_da_hourly')\n",
    "    axs.set_xlabel('day of year')\n",
    "fig.subplots_adjust(hspace=0.1)"
   ]
  },
  {
   "cell_type": "markdown",
   "metadata": {},
   "source": [
    "# Correlations"
   ]
  },
  {
   "cell_type": "code",
   "execution_count": 54,
   "metadata": {},
   "outputs": [
    {
     "data": {
      "text/plain": [
       "<AxesSubplot:>"
      ]
     },
     "execution_count": 54,
     "metadata": {},
     "output_type": "execute_result"
    }
   ],
   "source": [
    "fig, ax = plt.subplots(figsize=(15,10))\n",
    "sns.heatmap(price.drop(columns=['System Sell Price(£/MWh)']).corr(), annot = True, cmap='viridis', square=True)"
   ]
  },
  {
   "cell_type": "code",
   "execution_count": null,
   "metadata": {},
   "outputs": [],
   "source": []
  }
 ],
 "metadata": {
  "interpreter": {
   "hash": "bf61063d9ab6f8249df0368120b21b7886bf87ea303c1737ea82e59c300fcd9d"
  },
  "kernelspec": {
   "display_name": "Python 3.9.10 ('ml')",
   "language": "python",
   "name": "python3"
  },
  "language_info": {
   "codemirror_mode": {
    "name": "ipython",
    "version": 3
   },
   "file_extension": ".py",
   "mimetype": "text/x-python",
   "name": "python",
   "nbconvert_exporter": "python",
   "pygments_lexer": "ipython3",
   "version": "3.9.10"
  },
  "orig_nbformat": 4
 },
 "nbformat": 4,
 "nbformat_minor": 2
}
