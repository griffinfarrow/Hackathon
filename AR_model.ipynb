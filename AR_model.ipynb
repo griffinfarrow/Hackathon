{
 "cells": [
  {
   "cell_type": "code",
   "execution_count": 1,
   "metadata": {},
   "outputs": [],
   "source": [
    "from Hack import load\n",
    "import matplotlib.pyplot as plt\n",
    "import pandas as pd\n",
    "import seaborn as sns\n",
    "from pathlib import Path\n",
    "from statsmodels.tsa.ar_model import AutoReg\n",
    "import numpy as np\n",
    "import datetime as datetime\n",
    "from sklearn.metrics import r2_score"
   ]
  },
  {
   "cell_type": "code",
   "execution_count": 2,
   "metadata": {},
   "outputs": [
    {
     "name": "stdout",
     "output_type": "stream",
     "text": [
      "Data/systemprice.csv\n",
      "Index(['Settlement Period', 'System Sell Price(£/MWh)',\n",
      "       'System Buy Price(£/MWh)', 'Net Imbalance Volume(MWh)'],\n",
      "      dtype='object')\n",
      "                     Settlement Period  System Sell Price(£/MWh)  \\\n",
      "Date                                                               \n",
      "2019-04-08 00:00:00                3.0                 47.832000   \n",
      "2019-04-08 03:00:00                8.5                 51.805000   \n",
      "2019-04-08 06:00:00               14.5                 52.390000   \n",
      "2019-04-08 09:00:00               20.5                 65.701667   \n",
      "2019-04-08 12:00:00               26.5                 42.498333   \n",
      "...                                ...                       ...   \n",
      "2021-12-15 12:00:00               26.5                320.000000   \n",
      "2021-12-15 15:00:00               32.5                206.166667   \n",
      "2021-12-15 18:00:00               38.5                300.191667   \n",
      "2021-12-15 21:00:00               44.5                242.350000   \n",
      "2021-12-16 00:00:00               48.0                350.000000   \n",
      "\n",
      "                     System Buy Price(£/MWh)  Net Imbalance Volume(MWh)  \n",
      "Date                                                                     \n",
      "2019-04-08 00:00:00                47.832000                  85.216020  \n",
      "2019-04-08 03:00:00                51.805000                  98.207983  \n",
      "2019-04-08 06:00:00                52.390000                 -19.995600  \n",
      "2019-04-08 09:00:00                65.701667                 149.040933  \n",
      "2019-04-08 12:00:00                42.498333                -166.053433  \n",
      "...                                      ...                        ...  \n",
      "2021-12-15 12:00:00               320.000000                 184.531200  \n",
      "2021-12-15 15:00:00               206.166667                -276.708233  \n",
      "2021-12-15 18:00:00               300.191667                 -93.929767  \n",
      "2021-12-15 21:00:00               242.350000                -151.505900  \n",
      "2021-12-16 00:00:00               350.000000                 336.349600  \n",
      "\n",
      "[7865 rows x 4 columns]\n"
     ]
    }
   ],
   "source": [
    "price = load.systemprice().load()\n",
    "print(price.keys())\n",
    "\n",
    "# resample to required resolution (full res is probably too noisy)\n",
    "price = price.resample('180T').mean()\n",
    "print(price)"
   ]
  },
  {
   "cell_type": "code",
   "execution_count": 3,
   "metadata": {},
   "outputs": [
    {
     "data": {
      "text/plain": [
       "[<matplotlib.lines.Line2D at 0x13d298e50>]"
      ]
     },
     "execution_count": 3,
     "metadata": {},
     "output_type": "execute_result"
    }
   ],
   "source": [
    "# plot data\n",
    "fig, axs = plt.subplots(1,1)\n",
    "axs.plot(price.index, price['System Buy Price(£/MWh)'].values)"
   ]
  },
  {
   "cell_type": "markdown",
   "metadata": {},
   "source": [
    "# Model"
   ]
  },
  {
   "cell_type": "code",
   "execution_count": 4,
   "metadata": {},
   "outputs": [
    {
     "data": {
      "text/plain": [
       "<AxesSubplot:xlabel='Lag', ylabel='Autocorrelation'>"
      ]
     },
     "execution_count": 4,
     "metadata": {},
     "output_type": "execute_result"
    }
   ],
   "source": [
    "# Check what the autocorrelation function looks like\n",
    "plt.figure()\n",
    "pd.plotting.autocorrelation_plot(price['System Buy Price(£/MWh)'])"
   ]
  },
  {
   "cell_type": "code",
   "execution_count": 5,
   "metadata": {},
   "outputs": [],
   "source": [
    "# Remove seasonal trends (this might be improvable)\n",
    "price['stationary']=price['System Buy Price(£/MWh)'].diff()"
   ]
  },
  {
   "cell_type": "code",
   "execution_count": 6,
   "metadata": {},
   "outputs": [],
   "source": [
    "# Split into train and test data\n",
    "t1 = datetime.datetime(2021, 1, 1, 0, 0, 0)   # train up to this date\n",
    "t2 = datetime.datetime(2021, 1, 6, 0, 0, 0)   # predict up to this date\n",
    "\n",
    "train_data = price['stationary'].loc[price.index<t1]\n",
    "test_data = price['stationary'].loc[(price.index>=t1)&(price.index<t2)]\n",
    "train_data, test_data = train_data.dropna(), test_data.dropna()"
   ]
  },
  {
   "cell_type": "code",
   "execution_count": 7,
   "metadata": {},
   "outputs": [
    {
     "data": {
      "text/plain": [
       "<matplotlib.legend.Legend at 0x14269ef40>"
      ]
     },
     "execution_count": 7,
     "metadata": {},
     "output_type": "execute_result"
    }
   ],
   "source": [
    "# Fit model on training data \n",
    "# Try many different lags\n",
    "fig, axs = plt.subplots(1,1)\n",
    "axs.plot(test_data.index, test_data.values, c='black')\n",
    "lags = np.arange(10, 2000, 400)\n",
    "for i in lags:\n",
    "    model = AutoReg(train_data, lags=i)\n",
    "    model_fitted = model.fit()\n",
    "\n",
    "    # make predictions \n",
    "    predictions = model_fitted.predict(start=len(train_data), end=len(train_data) + len(test_data)-1, dynamic=False)\n",
    "    axs.plot(test_data.index, predictions, label=str(i))\n",
    "axs.legend()\n"
   ]
  }
 ],
 "metadata": {
  "interpreter": {
   "hash": "bf61063d9ab6f8249df0368120b21b7886bf87ea303c1737ea82e59c300fcd9d"
  },
  "kernelspec": {
   "display_name": "Python 3.9.10 ('ml')",
   "language": "python",
   "name": "python3"
  },
  "language_info": {
   "codemirror_mode": {
    "name": "ipython",
    "version": 3
   },
   "file_extension": ".py",
   "mimetype": "text/x-python",
   "name": "python",
   "nbconvert_exporter": "python",
   "pygments_lexer": "ipython3",
   "version": "3.9.10"
  },
  "orig_nbformat": 4
 },
 "nbformat": 4,
 "nbformat_minor": 2
}
