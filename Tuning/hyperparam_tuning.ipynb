{
 "cells": [
  {
   "cell_type": "markdown",
   "metadata": {},
   "source": [
    "# Notebook for hyperparameter tuning"
   ]
  },
  {
   "cell_type": "markdown",
   "metadata": {},
   "source": [
    "This is a very simple notebook to test out some algorithms for hyperparameter tuning, to find one that works well and apply it to our model"
   ]
  },
  {
   "cell_type": "code",
   "execution_count": 5,
   "metadata": {},
   "outputs": [],
   "source": [
    "# Necessary imports\n",
    "\n",
    "import sys\n",
    "sys.path.append(\"../\")\n",
    "\n",
    "from Hack import load \n",
    "from Hack import rl\n",
    "import matplotlib.pyplot as plt\n",
    "import numpy as np\n",
    "import optuna\n",
    "from stable_baselines3 import PPO\n",
    "from stable_baselines3.ppo.policies import MlpPolicy\n",
    "from stable_baselines3.common.vec_env import DummyVecEnv\n",
    "from stable_baselines3.common.env_checker import check_env\n",
    "\n",
    "%matplotlib qt5"
   ]
  },
  {
   "cell_type": "code",
   "execution_count": 2,
   "metadata": {},
   "outputs": [],
   "source": [
    "# load epex data\n",
    "epex = load.epex().load()\n",
    "price_array = epex['apx_da_hourly'].values\n",
    "\n",
    "start_of_2020 = None\n",
    "start_of_2021 = None\n",
    "\n",
    "for idx, (i, row) in enumerate(epex.iterrows()):\n",
    "    if i.year > 2019 and start_of_2020 is None:\n",
    "        start_of_2020 = idx\n",
    "    if i.year > 2020 and start_of_2021 is None:\n",
    "        start_of_2021 = idx\n",
    "        break"
   ]
  },
  {
   "cell_type": "code",
   "execution_count": 10,
   "metadata": {},
   "outputs": [
    {
     "ename": "SyntaxError",
     "evalue": "invalid syntax (1556052740.py, line 13)",
     "output_type": "error",
     "traceback": [
      "\u001b[1;36m  Input \u001b[1;32mIn [10]\u001b[1;36m\u001b[0m\n\u001b[1;33m    model =\u001b[0m\n\u001b[1;37m            ^\u001b[0m\n\u001b[1;31mSyntaxError\u001b[0m\u001b[1;31m:\u001b[0m invalid syntax\n"
     ]
    }
   ],
   "source": [
    "def objective():\n",
    "    \"\"\"\n",
    "    Function to take in hyperparameters, train a reinforcement model, and output the \"profit\" of the model as a metric\n",
    "    \"\"\"\n",
    "\n",
    "    start_idx = 0\n",
    "    end_idx = start_of_2020 #4 * 2*24*7 #start_of_2020 # 2019->2020 # 2*24*7\n",
    "    obs_price_array = price_array[start_idx:end_idx]\n",
    "\n",
    "    power = 0.5\n",
    "    env = rl.energy_price_env(obs_price_array, window_size=24*2, power=power)\n",
    "    model = PPO(MlpPolicy, env, verbose=0)      \n",
    "    model.learn(total_timesteps = 50000)\n",
    "\n",
    "    test_start_idx = start_of_2020\n",
    "    test_end_idx =  start_of_2021\n",
    "\n",
    "    test_price_array = price_array[test_start_idx:test_end_idx]\n",
    "\n",
    "    new_env =  DummyVecEnv([lambda: rl.energy_price_env(test_price_array, power=power)])\n",
    "    mean_reward_after_train = rl.evaluate(model, new_env=new_env, num_episodes=100, index=epex.index[test_start_idx:test_end_idx])\n",
    "\n",
    "    return mean_reward_after_train"
   ]
  }
 ],
 "metadata": {
  "interpreter": {
   "hash": "040d274fdfca6ecc88f65f18dafc70b49547e52dd567f9545727ec9f8e0b0ee0"
  },
  "kernelspec": {
   "display_name": "Python 3.9.10 ('ml')",
   "language": "python",
   "name": "python3"
  },
  "language_info": {
   "codemirror_mode": {
    "name": "ipython",
    "version": 3
   },
   "file_extension": ".py",
   "mimetype": "text/x-python",
   "name": "python",
   "nbconvert_exporter": "python",
   "pygments_lexer": "ipython3",
   "version": "3.9.10"
  },
  "orig_nbformat": 4
 },
 "nbformat": 4,
 "nbformat_minor": 2
}
