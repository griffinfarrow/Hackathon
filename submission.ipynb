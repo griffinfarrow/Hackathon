{
 "cells": [
  {
   "cell_type": "markdown",
   "metadata": {},
   "source": [
    "# Submission Notebook\n",
    "\n",
    "We have worked on optimising the charging and discharging of the battery.\n",
    "\n",
    "## Exploratory Data Analysis\n",
    "\n",
    "Let's look at the 'apx_da_hourly' data."
   ]
  },
  {
   "cell_type": "code",
   "execution_count": 1,
   "metadata": {},
   "outputs": [],
   "source": [
    "from Hack import load\n",
    "import matplotlib.pyplot as plt\n",
    "import pandas as pd\n",
    "import statsmodels.api as sm"
   ]
  },
  {
   "cell_type": "code",
   "execution_count": 3,
   "metadata": {},
   "outputs": [],
   "source": [
    "epex = load.epex().load()"
   ]
  },
  {
   "cell_type": "code",
   "execution_count": 4,
   "metadata": {},
   "outputs": [],
   "source": [
    "# Show seasonal trends\n",
    "epex['doy'] = epex.index.day_of_year\n",
    "epex['year'] = epex.index.year\n",
    "fig, axs = plt.subplots(1,1, figsize=(15,10), sharex='col')\n",
    "for i in [2019, 2020, 2021]:\n",
    "    epex_temp = epex.loc[epex.year==i]\n",
    "    epex_group = epex_temp.groupby(['doy']).mean()\n",
    "    axs.plot(epex_group.index, epex_group['apx_da_hourly'], label=str(i))\n",
    "    axs.set_ylabel('apx_da_hourly')\n",
    "    axs.set_xlabel('day of year')\n",
    "axs.legend()\n",
    "fig.subplots_adjust(hspace=0.1)"
   ]
  },
  {
   "cell_type": "code",
   "execution_count": 5,
   "metadata": {},
   "outputs": [
    {
     "ename": "NameError",
     "evalue": "name 'i' is not defined",
     "output_type": "error",
     "traceback": [
      "\u001b[1;31m---------------------------------------------------------------------------\u001b[0m",
      "\u001b[1;31mNameError\u001b[0m                                 Traceback (most recent call last)",
      "\u001b[1;32mc:\\Users\\mgmf4\\Documents\\AI_Hack\\Hackathon\\submission.ipynb Cell 5'\u001b[0m in \u001b[0;36m<cell line: 8>\u001b[1;34m()\u001b[0m\n\u001b[0;32m      <a href='vscode-notebook-cell:/c%3A/Users/mgmf4/Documents/AI_Hack/Hackathon/submission.ipynb#ch0000004?line=5'>6</a>\u001b[0m fig, axs \u001b[39m=\u001b[39m plt\u001b[39m.\u001b[39msubplots(\u001b[39m1\u001b[39m,\u001b[39m1\u001b[39m, figsize\u001b[39m=\u001b[39m(\u001b[39m15\u001b[39m,\u001b[39m10\u001b[39m), sharex\u001b[39m=\u001b[39m\u001b[39m'\u001b[39m\u001b[39mcol\u001b[39m\u001b[39m'\u001b[39m)\n\u001b[0;32m      <a href='vscode-notebook-cell:/c%3A/Users/mgmf4/Documents/AI_Hack/Hackathon/submission.ipynb#ch0000004?line=6'>7</a>\u001b[0m epex_temp \u001b[39m=\u001b[39m epex\u001b[39m.\u001b[39mloc[(epex\u001b[39m.\u001b[39mdoy\u001b[39m>\u001b[39mdoy1)\u001b[39m&\u001b[39m(epex\u001b[39m.\u001b[39mdoy\u001b[39m<\u001b[39mdoy2)\u001b[39m&\u001b[39m(epex\u001b[39m.\u001b[39myear\u001b[39m==\u001b[39m\u001b[39m2019\u001b[39m)]\n\u001b[1;32m----> <a href='vscode-notebook-cell:/c%3A/Users/mgmf4/Documents/AI_Hack/Hackathon/submission.ipynb#ch0000004?line=7'>8</a>\u001b[0m axs\u001b[39m.\u001b[39mplot(epex_temp\u001b[39m.\u001b[39mindex, epex_temp[\u001b[39m'\u001b[39m\u001b[39mapx_da_hourly\u001b[39m\u001b[39m'\u001b[39m], label\u001b[39m=\u001b[39m\u001b[39mstr\u001b[39m(i))\n\u001b[0;32m      <a href='vscode-notebook-cell:/c%3A/Users/mgmf4/Documents/AI_Hack/Hackathon/submission.ipynb#ch0000004?line=8'>9</a>\u001b[0m axs\u001b[39m.\u001b[39mset_ylabel(\u001b[39m'\u001b[39m\u001b[39mapx_da_hourly\u001b[39m\u001b[39m'\u001b[39m)\n\u001b[0;32m     <a href='vscode-notebook-cell:/c%3A/Users/mgmf4/Documents/AI_Hack/Hackathon/submission.ipynb#ch0000004?line=9'>10</a>\u001b[0m axs\u001b[39m.\u001b[39mset_xlabel(\u001b[39m'\u001b[39m\u001b[39m2019 (yyyy-mm-dd)\u001b[39m\u001b[39m'\u001b[39m)\n",
      "\u001b[1;31mNameError\u001b[0m: name 'i' is not defined"
     ]
    },
    {
     "data": {
      "image/png": "[encoded data removed]",
      "text/plain": [
       "<Figure size 1080x720 with 1 Axes>"
      ]
     },
     "metadata": {
      "needs_background": "light"
     },
     "output_type": "display_data"
    }
   ],
   "source": [
    "# Show daily variations (e.g. 2019)\n",
    "doy1 = 300\n",
    "doy2 = 310\n",
    "fig, axs = plt.subplots(1,1, figsize=(15,10), sharex='col')\n",
    "epex_temp = epex.loc[(epex.doy>doy1)&(epex.doy<doy2)&(epex.year==2019)]\n",
    "axs.plot(epex_temp.index, epex_temp['apx_da_hourly'], label=str(i))\n",
    "axs.set_ylabel('apx_da_hourly')\n",
    "axs.set_xlabel('2019 (yyyy-mm-dd)')\n",
    "axs.legend()\n",
    "fig.subplots_adjust(hspace=0.1)"
   ]
  },
  {
   "cell_type": "markdown",
   "metadata": {},
   "source": [
    "## Model\n",
    "\n",
    "### Training\n",
    "\n",
    "### Validation\n",
    "\n",
    "### Results"
   ]
  }
 ],
 "metadata": {
  "interpreter": {
   "hash": "bf61063d9ab6f8249df0368120b21b7886bf87ea303c1737ea82e59c300fcd9d"
  },
  "kernelspec": {
   "display_name": "Python 3.9.10 ('ml')",
   "language": "python",
   "name": "python3"
  },
  "language_info": {
   "codemirror_mode": {
    "name": "ipython",
    "version": 3
   },
   "file_extension": ".py",
   "mimetype": "text/x-python",
   "name": "python",
   "nbconvert_exporter": "python",
   "pygments_lexer": "ipython3",
   "version": "3.9.10"
  },
  "orig_nbformat": 4
 },
 "nbformat": 4,
 "nbformat_minor": 2
}
