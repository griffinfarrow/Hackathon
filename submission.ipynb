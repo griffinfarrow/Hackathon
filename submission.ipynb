{
 "cells": [
  {
   "cell_type": "markdown",
   "metadata": {},
   "source": [
    "# Submission Notebook\n",
    "\n",
    "We have worked on optimising the charging and discharging of the battery.\n",
    "\n",
    "## Exploratory Data Analysis\n",
    "\n",
    "Let's look at the 'apx_da_hourly' data."
   ]
  },
  {
   "cell_type": "code",
   "execution_count": 12,
   "metadata": {},
   "outputs": [],
   "source": [
    "from Hack import load\n",
    "import matplotlib.pyplot as plt\n",
    "import pandas as pd\n",
    "import statsmodels.api as sm"
   ]
  },
  {
   "cell_type": "code",
   "execution_count": 3,
   "metadata": {},
   "outputs": [],
   "source": [
    "epex = load.epex().load()"
   ]
  },
  {
   "cell_type": "code",
   "execution_count": 4,
   "metadata": {},
   "outputs": [],
   "source": [
    "# Show seasonal trends\n",
    "epex['doy'] = epex.index.day_of_year\n",
    "epex['year'] = epex.index.year\n",
    "fig, axs = plt.subplots(1,1, figsize=(15,10), sharex='col')\n",
    "for i in [2019, 2020, 2021]:\n",
    "    epex_temp = epex.loc[epex.year==i]\n",
    "    epex_group = epex_temp.groupby(['doy']).mean()\n",
    "    axs.plot(epex_group.index, epex_group['apx_da_hourly'], label=str(i))\n",
    "    axs.set_ylabel('apx_da_hourly')\n",
    "    axs.set_xlabel('day of year')\n",
    "axs.legend()\n",
    "fig.subplots_adjust(hspace=0.1)"
   ]
  },
  {
   "cell_type": "code",
   "execution_count": 11,
   "metadata": {},
   "outputs": [],
   "source": [
    "# Show daily variations (e.g. 2019)\n",
    "doy1 = 300\n",
    "doy2 = 310\n",
    "fig, axs = plt.subplots(1,1, figsize=(15,10), sharex='col')\n",
    "epex_temp = epex.loc[(epex.doy>doy1)&(epex.doy<doy2)&(epex.year==2019)]\n",
    "axs.plot(epex_temp.index, epex_temp['apx_da_hourly'], label=str(i))\n",
    "axs.set_ylabel('apx_da_hourly')\n",
    "axs.set_xlabel('2019 (yyyy-mm-dd)')\n",
    "axs.legend()\n",
    "fig.subplots_adjust(hspace=0.1)"
   ]
  },
  {
   "cell_type": "markdown",
   "metadata": {},
   "source": [
    "## Model\n",
    "\n",
    "### Training\n",
    "\n",
    "### Validation\n",
    "\n",
    "### Results"
   ]
  }
 ],
 "metadata": {
  "interpreter": {
   "hash": "bf61063d9ab6f8249df0368120b21b7886bf87ea303c1737ea82e59c300fcd9d"
  },
  "kernelspec": {
   "display_name": "Python 3.9.10 ('ml')",
   "language": "python",
   "name": "python3"
  },
  "language_info": {
   "codemirror_mode": {
    "name": "ipython",
    "version": 3
   },
   "file_extension": ".py",
   "mimetype": "text/x-python",
   "name": "python",
   "nbconvert_exporter": "python",
   "pygments_lexer": "ipython3",
   "version": "3.9.10"
  },
  "orig_nbformat": 4
 },
 "nbformat": 4,
 "nbformat_minor": 2
}
