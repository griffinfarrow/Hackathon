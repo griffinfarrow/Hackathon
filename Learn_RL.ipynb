{
 "cells": [
  {
   "cell_type": "code",
   "execution_count": 1,
   "metadata": {},
   "outputs": [],
   "source": [
    "from stable_baselines3 import PPO\n",
    "from stable_baselines3.ppo.policies import MlpPolicy\n",
    "from stable_baselines3.common.vec_env import DummyVecEnv\n",
    "from stable_baselines3.common.env_checker import check_env\n",
    "import gym\n",
    "import numpy as np\n",
    "from RL import helpers\n",
    "from Hack import load\n",
    "%matplotlib qt5"
   ]
  },
  {
   "cell_type": "code",
   "execution_count": 2,
   "metadata": {},
   "outputs": [],
   "source": [
    "epex = load.epex().load()\n",
    "price_array = epex['apx_da_hourly'].values"
   ]
  },
  {
   "cell_type": "code",
   "execution_count": 32,
   "metadata": {},
   "outputs": [],
   "source": [
    "import matplotlib.pyplot as plt\n",
    "\n",
    "\n",
    "fig, axs = plt.subplots(1,1, figsize = (15,10))\n",
    "axs.plot(epex.index, price_array, color = 'mediumblue', label='Price')\n",
    "mean_prices = []\n",
    "median_prices = []\n",
    "for i in np.arange(price_array.shape[0]):\n",
    "    mean_prices.append(helpers.get_expected_price(price_array, i, mode = 'mean'))\n",
    "    median_prices.append(helpers.get_expected_price(price_array, i, mode = 'median', window_size=2*24))\n",
    "    \n",
    "axs.plot(epex.index, mean_prices, color = 'cyan', label='mean')\n",
    "axs.plot(epex.index, median_prices, color = 'magenta', label='median')\n",
    "\n",
    "axs.set_ylabel(\"Price\")\n",
    "axs.legend()\n",
    "fig.autofmt_xdate()"
   ]
  },
  {
   "cell_type": "code",
   "execution_count": 6,
   "metadata": {},
   "outputs": [
    {
     "name": "stdout",
     "output_type": "stream",
     "text": [
      "13202 30770\n"
     ]
    }
   ],
   "source": [
    "start_of_2020 = None\n",
    "start_of_2021 = None\n",
    "\n",
    "for idx, (i, row) in enumerate(epex.iterrows()):\n",
    "    if i.year > 2019 and start_of_2020 is None:\n",
    "        start_of_2020 = idx\n",
    "    if i.year > 2020 and start_of_2021 is None:\n",
    "        start_of_2021 = idx\n",
    "        break\n",
    "print(start_of_2020, start_of_2021)"
   ]
  },
  {
   "cell_type": "code",
   "execution_count": 25,
   "metadata": {},
   "outputs": [
    {
     "name": "stderr",
     "output_type": "stream",
     "text": [
      "C:\\Users\\Ronan\\Anaconda3\\envs\\ml\\lib\\site-packages\\gym\\logger.py:34: UserWarning: \u001b[33mWARN: Box bound precision lowered by casting to float32\u001b[0m\n",
      "  warnings.warn(colorize(\"%s: %s\" % (\"WARN\", msg % args), \"yellow\"))\n"
     ]
    }
   ],
   "source": [
    "start_idx = 0\n",
    "end_idx = 4 * 2*24*7 #start_of_2020 # 2019->2020 # 2*24*7\n",
    "obs_price_array = price_array[start_idx:end_idx]\n",
    "\n",
    "env = helpers.energy_price_env(obs_price_array, window_size=24*2)\n",
    "model = PPO(MlpPolicy, env, verbose=0)\n",
    "check_env(env, warn=True)"
   ]
  },
  {
   "cell_type": "code",
   "execution_count": 27,
   "metadata": {},
   "outputs": [
    {
     "name": "stdout",
     "output_type": "stream",
     "text": [
      "Mean reward: 36.646626 +/- 0.0 \t Num episodes: 1\n"
     ]
    }
   ],
   "source": [
    "mean_reward_before_train = helpers.evaluate(model, num_episodes=1, index = epex.index[start_idx:end_idx])"
   ]
  },
  {
   "cell_type": "code",
   "execution_count": 28,
   "metadata": {},
   "outputs": [
    {
     "data": {
      "text/plain": [
       "<stable_baselines3.ppo.ppo.PPO at 0x2581bdfa940>"
      ]
     },
     "execution_count": 28,
     "metadata": {},
     "output_type": "execute_result"
    }
   ],
   "source": [
    "# Train the agent for 10000 steps\n",
    "model.learn(total_timesteps=50000)\n",
    "#model.save(\"../model_dir/trained_model\")\n",
    "\n",
    "# load model using loaded_model = PPO.load(\"path_to_model\")"
   ]
  },
  {
   "cell_type": "code",
   "execution_count": 35,
   "metadata": {},
   "outputs": [
    {
     "name": "stderr",
     "output_type": "stream",
     "text": [
      "C:\\Users\\Ronan\\Anaconda3\\envs\\ml\\lib\\site-packages\\stable_baselines3\\common\\save_util.py:276: UserWarning: Path '..\\model_dir' does not exist. Will create it.\n",
      "  warnings.warn(f\"Path '{path.parent}' does not exist. Will create it.\")\n"
     ]
    }
   ],
   "source": [
    "model.save(\"Models/train_first_month\")"
   ]
  },
  {
   "cell_type": "code",
   "execution_count": 34,
   "metadata": {},
   "outputs": [
    {
     "name": "stderr",
     "output_type": "stream",
     "text": [
      "C:\\Users\\Ronan\\Anaconda3\\envs\\ml\\lib\\site-packages\\gym\\logger.py:34: UserWarning: \u001b[33mWARN: Box bound precision lowered by casting to float32\u001b[0m\n",
      "  warnings.warn(colorize(\"%s: %s\" % (\"WARN\", msg % args), \"yellow\"))\n"
     ]
    },
    {
     "name": "stdout",
     "output_type": "stream",
     "text": [
      "Mean reward: 1617.093 +/- 0.0 \t Num episodes: 1\n"
     ]
    }
   ],
   "source": [
    "# Trained Agent, after training\n",
    "test_start_idx = start_of_2020 # end_idx # start_of_2020 # 2*24*7\n",
    "test_end_idx =  start_of_2021 # 2*end_idx # start_of_2021 # 30770 + 2*24*7\n",
    "test_price_array = price_array[test_start_idx:test_end_idx]\n",
    "\n",
    "new_env =  DummyVecEnv([lambda: helpers.energy_price_env(test_price_array)])\n",
    "mean_reward_after_train = helpers.evaluate(model, new_env=new_env, num_episodes=1, index=epex.index[test_start_idx:test_end_idx])"
   ]
  },
  {
   "cell_type": "code",
   "execution_count": null,
   "metadata": {},
   "outputs": [],
   "source": []
  }
 ],
 "metadata": {
  "interpreter": {
   "hash": "f1149646f41e957ad8a138086d8dcbe68460d591d12e33bd334a567b3e069840"
  },
  "kernelspec": {
   "display_name": "Python 3.7.12 ('rl')",
   "language": "python",
   "name": "python3"
  },
  "language_info": {
   "codemirror_mode": {
    "name": "ipython",
    "version": 3
   },
   "file_extension": ".py",
   "mimetype": "text/x-python",
   "name": "python",
   "nbconvert_exporter": "python",
   "pygments_lexer": "ipython3",
   "version": "3.9.10"
  },
  "orig_nbformat": 4
 },
 "nbformat": 4,
 "nbformat_minor": 2
}
