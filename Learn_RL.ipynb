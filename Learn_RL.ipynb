{
 "cells": [
  {
   "cell_type": "code",
   "execution_count": 1,
   "metadata": {},
   "outputs": [],
   "source": [
    "from stable_baselines3 import PPO\n",
    "from stable_baselines3.ppo.policies import MlpPolicy\n",
    "from stable_baselines3.common.vec_env import DummyVecEnv\n",
    "from stable_baselines3.common.env_checker import check_env\n",
    "import gym\n",
    "import numpy as np\n",
    "from RL import helpers\n",
    "from Hack import load"
   ]
  },
  {
   "cell_type": "code",
   "execution_count": 2,
   "metadata": {},
   "outputs": [],
   "source": [
    "epex = load.epex().load()\n",
    "price_array = epex['apx_da_hourly'].values"
   ]
  },
  {
   "cell_type": "code",
   "execution_count": 3,
   "metadata": {},
   "outputs": [
    {
     "data": {
      "text/plain": [
       "[<matplotlib.lines.Line2D at 0x1a29aadca90>]"
      ]
     },
     "execution_count": 3,
     "metadata": {},
     "output_type": "execute_result"
    }
   ],
   "source": [
    "import matplotlib.pyplot as plt\n",
    "\n",
    "def get_mode(arr, bin_number = 10):\n",
    "    arr = arr[~np.isnan(arr)] #~ means not\n",
    "\n",
    "    if len(arr) > 0:\n",
    "        hist, bin_edges = np.histogram(arr, bins=bin_number)\n",
    "        centers = 0.5*(bin_edges[1:]+ bin_edges[:-1])\n",
    "        max_idx = np.argmax(hist)\n",
    "        mode = centers[max_idx]\n",
    "        return mode\n",
    "    else:\n",
    "        #print('Just nans')\n",
    "        return np.nan\n",
    "\n",
    "def get_expected_price(price_array, idx, window_size = 2*24, mode='mode'):\n",
    "    idx = int(idx)\n",
    "    \n",
    "    if idx == 0:\n",
    "        arr = price_array[idx]\n",
    "    elif idx < window_size:\n",
    "        arr = price_array[:idx]\n",
    "    else:\n",
    "        arr = price_array[idx - window_size : idx]\n",
    "    \n",
    "    if mode == 'mean':\n",
    "        return np.mean(arr)\n",
    "    if mode == 'mode':\n",
    "        return get_mode(arr, 5)\n",
    "    if mode == 'median':\n",
    "        return np.median(arr)\n",
    "\n",
    "\n",
    "fig, axs = plt.subplots(1,1)\n",
    "axs.plot(epex.index, price_array, color = 'black')\n",
    "mean_prices = []\n",
    "mode_prices = []\n",
    "median_prices = []\n",
    "for i in np.arange(price_array.shape[0]):\n",
    "    mean_prices.append(get_expected_price(price_array, i, mode = 'mean'))\n",
    "    mode_prices.append(get_expected_price(price_array, i, mode = 'mode', window_size=2*24))\n",
    "    median_prices.append(get_expected_price(price_array, i, mode = 'median', window_size=2*24))\n",
    "    \n",
    "axs.plot(epex.index, mean_prices, color = 'red')\n",
    "axs.plot(epex.index, mode_prices, color = 'blue')\n",
    "axs.plot(epex.index, median_prices, color = 'green')"
   ]
  },
  {
   "cell_type": "code",
   "execution_count": 12,
   "metadata": {},
   "outputs": [
    {
     "name": "stderr",
     "output_type": "stream",
     "text": [
      "C:\\Users\\Ronan\\Anaconda3\\envs\\ml\\lib\\site-packages\\gym\\logger.py:34: UserWarning: \u001b[33mWARN: Box bound precision lowered by casting to float32\u001b[0m\n",
      "  warnings.warn(colorize(\"%s: %s\" % (\"WARN\", msg % args), \"yellow\"))\n"
     ]
    }
   ],
   "source": [
    "start_idx = 0\n",
    "end_idx = 30769 # 2019->2020 # 2*24*7\n",
    "obs_price_array = price_array[start_idx:end_idx]\n",
    "\n",
    "env = helpers.energy_price_env(obs_price_array, window_size=24*2)\n",
    "model = PPO(MlpPolicy, env, verbose=0)\n",
    "check_env(env, warn=True)"
   ]
  },
  {
   "cell_type": "code",
   "execution_count": 13,
   "metadata": {},
   "outputs": [
    {
     "name": "stdout",
     "output_type": "stream",
     "text": [
      "Mean reward: -103.983986 Num episodes: 3\n"
     ]
    }
   ],
   "source": [
    "mean_reward_before_train = helpers.evaluate(model, num_episodes=1, index = epex.index[start_idx:end_idx])"
   ]
  },
  {
   "cell_type": "code",
   "execution_count": 20,
   "metadata": {},
   "outputs": [
    {
     "data": {
      "text/plain": [
       "<stable_baselines3.ppo.ppo.PPO at 0x1a29c9e8d90>"
      ]
     },
     "execution_count": 20,
     "metadata": {},
     "output_type": "execute_result"
    }
   ],
   "source": [
    "# Train the agent for 10000 steps\n",
    "model.learn(total_timesteps=10000)"
   ]
  },
  {
   "cell_type": "code",
   "execution_count": 21,
   "metadata": {},
   "outputs": [
    {
     "name": "stderr",
     "output_type": "stream",
     "text": [
      "C:\\Users\\Ronan\\Anaconda3\\envs\\ml\\lib\\site-packages\\gym\\logger.py:34: UserWarning: \u001b[33mWARN: Box bound precision lowered by casting to float32\u001b[0m\n",
      "  warnings.warn(colorize(\"%s: %s\" % (\"WARN\", msg % args), \"yellow\"))\n"
     ]
    }
   ],
   "source": [
    "# Trained Agent, after training\n",
    "start_idx = 30770 # 2*24*7\n",
    "end_idx = -1 # 30770 + 2*24*7\n",
    "test_price_array = price_array[start_idx:end_idx]\n",
    "\n",
    "\n",
    "new_env =  DummyVecEnv([lambda: helpers.energy_price_env(test_price_array)])\n",
    "mean_reward_after_train = helpers.evaluate(model, new_env=new_env, num_episodes=100, index=epex.index)"
   ]
  }
 ],
 "metadata": {
  "interpreter": {
   "hash": "f1149646f41e957ad8a138086d8dcbe68460d591d12e33bd334a567b3e069840"
  },
  "kernelspec": {
   "display_name": "Python 3.7.12 ('rl')",
   "language": "python",
   "name": "python3"
  },
  "language_info": {
   "codemirror_mode": {
    "name": "ipython",
    "version": 3
   },
   "file_extension": ".py",
   "mimetype": "text/x-python",
   "name": "python",
   "nbconvert_exporter": "python",
   "pygments_lexer": "ipython3",
   "version": "3.9.10"
  },
  "orig_nbformat": 4
 },
 "nbformat": 4,
 "nbformat_minor": 2
}
