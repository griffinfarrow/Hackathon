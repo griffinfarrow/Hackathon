{
 "cells": [
  {
   "cell_type": "markdown",
   "metadata": {},
   "source": [
    "## Load the data"
   ]
  },
  {
   "cell_type": "code",
   "execution_count": 1,
   "metadata": {},
   "outputs": [],
   "source": [
    "from Hack import load\n",
    "import matplotlib.pyplot as plt\n",
    "import pandas as pd\n",
    "from pathlib import Path"
   ]
  },
  {
   "cell_type": "code",
   "execution_count": 2,
   "metadata": {},
   "outputs": [],
   "source": [
    "data_dir = Path(\"./Data\")\n",
    "df = load.load_csv(data_dir / \"systemprice.csv\")"
   ]
  },
  {
   "cell_type": "code",
   "execution_count": 3,
   "metadata": {},
   "outputs": [],
   "source": [
    "import matplotlib.pyplot as plt\n",
    "\n",
    "%matplotlib qt5\n",
    "# plot all the columns in a new subplot\n",
    "fig, axs = plt.subplots(len(df.keys()),1,sharex = True)\n",
    "for ax, col in zip(axs, df.keys()):\n",
    "    ax.plot(df.index, df[col])\n",
    "    ax.set_ylabel(col)\n",
    "fig.autofmt_xdate()"
   ]
  }
 ],
 "metadata": {
  "interpreter": {
   "hash": "359929df3674405dbd520b625166222816afac501f5decec9dd63c75d88c0d26"
  },
  "kernelspec": {
   "display_name": "Python 3.9.10 ('ml')",
   "language": "python",
   "name": "python3"
  },
  "language_info": {
   "codemirror_mode": {
    "name": "ipython",
    "version": 3
   },
   "file_extension": ".py",
   "mimetype": "text/x-python",
   "name": "python",
   "nbconvert_exporter": "python",
   "pygments_lexer": "ipython3",
   "version": "3.9.10"
  },
  "orig_nbformat": 4
 },
 "nbformat": 4,
 "nbformat_minor": 2
}
